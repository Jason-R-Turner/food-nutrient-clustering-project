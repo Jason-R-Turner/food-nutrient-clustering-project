{
 "cells": [
  {
   "cell_type": "code",
   "execution_count": 1,
   "id": "bf3a08bf-9d43-4913-b922-b823b7e07178",
   "metadata": {},
   "outputs": [],
   "source": [
    "import os\n",
    "import pandas as pd\n",
    "import requests\n",
    "import env\n",
    "import json\n",
    "from pandas import json_normalize"
   ]
  },
  {
   "cell_type": "code",
   "execution_count": 2,
   "id": "20b3101b-2790-4dde-978b-b660d14ff3be",
   "metadata": {},
   "outputs": [],
   "source": [
    "with open(\"/Users/ultimate/codeup-data-science/pet_projects/FoodData_Central_foundation_food_json_2022-04-28.json\") as jsonFile:\n",
    "    data = json.load(jsonFile)\n",
    "    jsonFile.close()\n"
   ]
  },
  {
   "cell_type": "code",
   "execution_count": 3,
   "id": "8ee07612-7459-4e0f-bbf1-188541ce068c",
   "metadata": {},
   "outputs": [
    {
     "data": {
      "text/plain": [
       "dict"
      ]
     },
     "execution_count": 3,
     "metadata": {},
     "output_type": "execute_result"
    }
   ],
   "source": [
    "type(data)"
   ]
  },
  {
   "cell_type": "code",
   "execution_count": 4,
   "id": "d8abc324-72f1-4115-b617-0dc5ed59c38c",
   "metadata": {},
   "outputs": [
    {
     "name": "stdout",
     "output_type": "stream",
     "text": [
      "                                                               0    \\\n",
      "FoundationFoods  {'foodClass': 'FinalFood', 'description': 'Hum...   \n",
      "\n",
      "                                                               1    \\\n",
      "FoundationFoods  {'foodClass': 'FinalFood', 'description': 'Tom...   \n",
      "\n",
      "                                                               2    \\\n",
      "FoundationFoods  {'foodClass': 'FinalFood', 'description': 'Bea...   \n",
      "\n",
      "                                                               3    \\\n",
      "FoundationFoods  {'foodClass': 'FinalFood', 'description': 'Fra...   \n",
      "\n",
      "                                                               4    \\\n",
      "FoundationFoods  {'foodClass': 'FinalFood', 'description': 'Nut...   \n",
      "\n",
      "                                                               5    \\\n",
      "FoundationFoods  {'foodClass': 'FinalFood', 'description': 'Kal...   \n",
      "\n",
      "                                                               6    \\\n",
      "FoundationFoods  {'foodClass': 'FinalFood', 'description': 'Egg...   \n",
      "\n",
      "                                                               7    \\\n",
      "FoundationFoods  {'foodClass': 'FinalFood', 'description': 'Egg...   \n",
      "\n",
      "                                                               8    \\\n",
      "FoundationFoods  {'foodClass': 'FinalFood', 'description': 'Egg...   \n",
      "\n",
      "                                                               9    ...  \\\n",
      "FoundationFoods  {'foodClass': 'FinalFood', 'description': 'Oni...  ...   \n",
      "\n",
      "                                                               174  \\\n",
      "FoundationFoods  {'foodClass': 'FinalFood', 'description': 'Pea...   \n",
      "\n",
      "                                                               175  \\\n",
      "FoundationFoods  {'foodClass': 'FinalFood', 'description': 'Ses...   \n",
      "\n",
      "                                                               176  \\\n",
      "FoundationFoods  {'foodClass': 'FinalFood', 'description': 'Alm...   \n",
      "\n",
      "                                                               177  \\\n",
      "FoundationFoods  {'foodClass': 'FinalFood', 'description': 'Fla...   \n",
      "\n",
      "                                                               178  \\\n",
      "FoundationFoods  {'foodClass': 'FinalFood', 'description': 'Str...   \n",
      "\n",
      "                                                               179  \\\n",
      "FoundationFoods  {'foodClass': 'FinalFood', 'description': 'Ras...   \n",
      "\n",
      "                                                               180  \\\n",
      "FoundationFoods  {'foodClass': 'FinalFood', 'description': 'Blu...   \n",
      "\n",
      "                                                               181  \\\n",
      "FoundationFoods  {'foodClass': 'FinalFood', 'description': 'Gra...   \n",
      "\n",
      "                                                               182  \\\n",
      "FoundationFoods  {'foodClass': 'FinalFood', 'description': 'Gra...   \n",
      "\n",
      "                                                               183  \n",
      "FoundationFoods  {'foodClass': 'FinalFood', 'description': 'App...  \n",
      "\n",
      "[1 rows x 184 columns]\n"
     ]
    }
   ],
   "source": [
    "# Use pandas.DataFrame.from_dict() to Convert JSON to DataFrame\n",
    "df2 = pd.DataFrame.from_dict(data, orient=\"index\")\n",
    "print(df2)\n"
   ]
  },
  {
   "cell_type": "code",
   "execution_count": 5,
   "id": "fc19e861-c058-4443-a73d-ff354a884523",
   "metadata": {},
   "outputs": [
    {
     "data": {
      "text/html": [
       "<div>\n",
       "<style scoped>\n",
       "    .dataframe tbody tr th:only-of-type {\n",
       "        vertical-align: middle;\n",
       "    }\n",
       "\n",
       "    .dataframe tbody tr th {\n",
       "        vertical-align: top;\n",
       "    }\n",
       "\n",
       "    .dataframe thead th {\n",
       "        text-align: right;\n",
       "    }\n",
       "</style>\n",
       "<table border=\"1\" class=\"dataframe\">\n",
       "  <thead>\n",
       "    <tr style=\"text-align: right;\">\n",
       "      <th></th>\n",
       "      <th>0</th>\n",
       "      <th>1</th>\n",
       "      <th>2</th>\n",
       "      <th>3</th>\n",
       "      <th>4</th>\n",
       "      <th>5</th>\n",
       "      <th>6</th>\n",
       "      <th>7</th>\n",
       "      <th>8</th>\n",
       "      <th>9</th>\n",
       "      <th>...</th>\n",
       "      <th>174</th>\n",
       "      <th>175</th>\n",
       "      <th>176</th>\n",
       "      <th>177</th>\n",
       "      <th>178</th>\n",
       "      <th>179</th>\n",
       "      <th>180</th>\n",
       "      <th>181</th>\n",
       "      <th>182</th>\n",
       "      <th>183</th>\n",
       "    </tr>\n",
       "  </thead>\n",
       "  <tbody>\n",
       "    <tr>\n",
       "      <th>FoundationFoods</th>\n",
       "      <td>{'foodClass': 'FinalFood', 'description': 'Hum...</td>\n",
       "      <td>{'foodClass': 'FinalFood', 'description': 'Tom...</td>\n",
       "      <td>{'foodClass': 'FinalFood', 'description': 'Bea...</td>\n",
       "      <td>{'foodClass': 'FinalFood', 'description': 'Fra...</td>\n",
       "      <td>{'foodClass': 'FinalFood', 'description': 'Nut...</td>\n",
       "      <td>{'foodClass': 'FinalFood', 'description': 'Kal...</td>\n",
       "      <td>{'foodClass': 'FinalFood', 'description': 'Egg...</td>\n",
       "      <td>{'foodClass': 'FinalFood', 'description': 'Egg...</td>\n",
       "      <td>{'foodClass': 'FinalFood', 'description': 'Egg...</td>\n",
       "      <td>{'foodClass': 'FinalFood', 'description': 'Oni...</td>\n",
       "      <td>...</td>\n",
       "      <td>{'foodClass': 'FinalFood', 'description': 'Pea...</td>\n",
       "      <td>{'foodClass': 'FinalFood', 'description': 'Ses...</td>\n",
       "      <td>{'foodClass': 'FinalFood', 'description': 'Alm...</td>\n",
       "      <td>{'foodClass': 'FinalFood', 'description': 'Fla...</td>\n",
       "      <td>{'foodClass': 'FinalFood', 'description': 'Str...</td>\n",
       "      <td>{'foodClass': 'FinalFood', 'description': 'Ras...</td>\n",
       "      <td>{'foodClass': 'FinalFood', 'description': 'Blu...</td>\n",
       "      <td>{'foodClass': 'FinalFood', 'description': 'Gra...</td>\n",
       "      <td>{'foodClass': 'FinalFood', 'description': 'Gra...</td>\n",
       "      <td>{'foodClass': 'FinalFood', 'description': 'App...</td>\n",
       "    </tr>\n",
       "  </tbody>\n",
       "</table>\n",
       "<p>1 rows × 184 columns</p>\n",
       "</div>"
      ],
      "text/plain": [
       "                                                               0    \\\n",
       "FoundationFoods  {'foodClass': 'FinalFood', 'description': 'Hum...   \n",
       "\n",
       "                                                               1    \\\n",
       "FoundationFoods  {'foodClass': 'FinalFood', 'description': 'Tom...   \n",
       "\n",
       "                                                               2    \\\n",
       "FoundationFoods  {'foodClass': 'FinalFood', 'description': 'Bea...   \n",
       "\n",
       "                                                               3    \\\n",
       "FoundationFoods  {'foodClass': 'FinalFood', 'description': 'Fra...   \n",
       "\n",
       "                                                               4    \\\n",
       "FoundationFoods  {'foodClass': 'FinalFood', 'description': 'Nut...   \n",
       "\n",
       "                                                               5    \\\n",
       "FoundationFoods  {'foodClass': 'FinalFood', 'description': 'Kal...   \n",
       "\n",
       "                                                               6    \\\n",
       "FoundationFoods  {'foodClass': 'FinalFood', 'description': 'Egg...   \n",
       "\n",
       "                                                               7    \\\n",
       "FoundationFoods  {'foodClass': 'FinalFood', 'description': 'Egg...   \n",
       "\n",
       "                                                               8    \\\n",
       "FoundationFoods  {'foodClass': 'FinalFood', 'description': 'Egg...   \n",
       "\n",
       "                                                               9    ...  \\\n",
       "FoundationFoods  {'foodClass': 'FinalFood', 'description': 'Oni...  ...   \n",
       "\n",
       "                                                               174  \\\n",
       "FoundationFoods  {'foodClass': 'FinalFood', 'description': 'Pea...   \n",
       "\n",
       "                                                               175  \\\n",
       "FoundationFoods  {'foodClass': 'FinalFood', 'description': 'Ses...   \n",
       "\n",
       "                                                               176  \\\n",
       "FoundationFoods  {'foodClass': 'FinalFood', 'description': 'Alm...   \n",
       "\n",
       "                                                               177  \\\n",
       "FoundationFoods  {'foodClass': 'FinalFood', 'description': 'Fla...   \n",
       "\n",
       "                                                               178  \\\n",
       "FoundationFoods  {'foodClass': 'FinalFood', 'description': 'Str...   \n",
       "\n",
       "                                                               179  \\\n",
       "FoundationFoods  {'foodClass': 'FinalFood', 'description': 'Ras...   \n",
       "\n",
       "                                                               180  \\\n",
       "FoundationFoods  {'foodClass': 'FinalFood', 'description': 'Blu...   \n",
       "\n",
       "                                                               181  \\\n",
       "FoundationFoods  {'foodClass': 'FinalFood', 'description': 'Gra...   \n",
       "\n",
       "                                                               182  \\\n",
       "FoundationFoods  {'foodClass': 'FinalFood', 'description': 'Gra...   \n",
       "\n",
       "                                                               183  \n",
       "FoundationFoods  {'foodClass': 'FinalFood', 'description': 'App...  \n",
       "\n",
       "[1 rows x 184 columns]"
      ]
     },
     "execution_count": 5,
     "metadata": {},
     "output_type": "execute_result"
    }
   ],
   "source": [
    "df2"
   ]
  },
  {
   "cell_type": "code",
   "execution_count": 7,
   "id": "5c5ecd43-7553-44a5-8f6e-0b878b667046",
   "metadata": {},
   "outputs": [
    {
     "data": {
      "text/plain": [
       "dict_keys(['FoundationFoods'])"
      ]
     },
     "execution_count": 7,
     "metadata": {},
     "output_type": "execute_result"
    }
   ],
   "source": [
    "data.keys()"
   ]
  },
  {
   "cell_type": "code",
   "execution_count": 9,
   "id": "a105536f-0295-44d0-ba1c-9881bc29ab22",
   "metadata": {},
   "outputs": [
    {
     "ename": "ValueError",
     "evalue": "Invalid file path or buffer object type: <class 'dict'>",
     "output_type": "error",
     "traceback": [
      "\u001b[0;31m---------------------------------------------------------------------------\u001b[0m",
      "\u001b[0;31mValueError\u001b[0m                                Traceback (most recent call last)",
      "\u001b[0;32m/var/folders/tg/c6tcjwk13mj583lxrf25k3jm0000gn/T/ipykernel_34845/2332784091.py\u001b[0m in \u001b[0;36m<module>\u001b[0;34m\u001b[0m\n\u001b[0;32m----> 1\u001b[0;31m \u001b[0mdf2\u001b[0m \u001b[0;34m=\u001b[0m \u001b[0mpd\u001b[0m\u001b[0;34m.\u001b[0m\u001b[0mread_json\u001b[0m\u001b[0;34m(\u001b[0m\u001b[0mdata\u001b[0m\u001b[0;34m,\u001b[0m \u001b[0morient\u001b[0m \u001b[0;34m=\u001b[0m\u001b[0;34m'index'\u001b[0m\u001b[0;34m)\u001b[0m\u001b[0;34m\u001b[0m\u001b[0;34m\u001b[0m\u001b[0m\n\u001b[0m\u001b[1;32m      2\u001b[0m \u001b[0mprint\u001b[0m\u001b[0;34m(\u001b[0m\u001b[0mdf2\u001b[0m\u001b[0;34m)\u001b[0m\u001b[0;34m\u001b[0m\u001b[0;34m\u001b[0m\u001b[0m\n",
      "\u001b[0;32m/opt/homebrew/anaconda3/lib/python3.9/site-packages/pandas/util/_decorators.py\u001b[0m in \u001b[0;36mwrapper\u001b[0;34m(*args, **kwargs)\u001b[0m\n\u001b[1;32m    205\u001b[0m                 \u001b[0;32melse\u001b[0m\u001b[0;34m:\u001b[0m\u001b[0;34m\u001b[0m\u001b[0;34m\u001b[0m\u001b[0m\n\u001b[1;32m    206\u001b[0m                     \u001b[0mkwargs\u001b[0m\u001b[0;34m[\u001b[0m\u001b[0mnew_arg_name\u001b[0m\u001b[0;34m]\u001b[0m \u001b[0;34m=\u001b[0m \u001b[0mnew_arg_value\u001b[0m\u001b[0;34m\u001b[0m\u001b[0;34m\u001b[0m\u001b[0m\n\u001b[0;32m--> 207\u001b[0;31m             \u001b[0;32mreturn\u001b[0m \u001b[0mfunc\u001b[0m\u001b[0;34m(\u001b[0m\u001b[0;34m*\u001b[0m\u001b[0margs\u001b[0m\u001b[0;34m,\u001b[0m \u001b[0;34m**\u001b[0m\u001b[0mkwargs\u001b[0m\u001b[0;34m)\u001b[0m\u001b[0;34m\u001b[0m\u001b[0;34m\u001b[0m\u001b[0m\n\u001b[0m\u001b[1;32m    208\u001b[0m \u001b[0;34m\u001b[0m\u001b[0m\n\u001b[1;32m    209\u001b[0m         \u001b[0;32mreturn\u001b[0m \u001b[0mcast\u001b[0m\u001b[0;34m(\u001b[0m\u001b[0mF\u001b[0m\u001b[0;34m,\u001b[0m \u001b[0mwrapper\u001b[0m\u001b[0;34m)\u001b[0m\u001b[0;34m\u001b[0m\u001b[0;34m\u001b[0m\u001b[0m\n",
      "\u001b[0;32m/opt/homebrew/anaconda3/lib/python3.9/site-packages/pandas/util/_decorators.py\u001b[0m in \u001b[0;36mwrapper\u001b[0;34m(*args, **kwargs)\u001b[0m\n\u001b[1;32m    309\u001b[0m                     \u001b[0mstacklevel\u001b[0m\u001b[0;34m=\u001b[0m\u001b[0mstacklevel\u001b[0m\u001b[0;34m,\u001b[0m\u001b[0;34m\u001b[0m\u001b[0;34m\u001b[0m\u001b[0m\n\u001b[1;32m    310\u001b[0m                 )\n\u001b[0;32m--> 311\u001b[0;31m             \u001b[0;32mreturn\u001b[0m \u001b[0mfunc\u001b[0m\u001b[0;34m(\u001b[0m\u001b[0;34m*\u001b[0m\u001b[0margs\u001b[0m\u001b[0;34m,\u001b[0m \u001b[0;34m**\u001b[0m\u001b[0mkwargs\u001b[0m\u001b[0;34m)\u001b[0m\u001b[0;34m\u001b[0m\u001b[0;34m\u001b[0m\u001b[0m\n\u001b[0m\u001b[1;32m    312\u001b[0m \u001b[0;34m\u001b[0m\u001b[0m\n\u001b[1;32m    313\u001b[0m         \u001b[0;32mreturn\u001b[0m \u001b[0mwrapper\u001b[0m\u001b[0;34m\u001b[0m\u001b[0;34m\u001b[0m\u001b[0m\n",
      "\u001b[0;32m/opt/homebrew/anaconda3/lib/python3.9/site-packages/pandas/io/json/_json.py\u001b[0m in \u001b[0;36mread_json\u001b[0;34m(path_or_buf, orient, typ, dtype, convert_axes, convert_dates, keep_default_dates, numpy, precise_float, date_unit, encoding, encoding_errors, lines, chunksize, compression, nrows, storage_options)\u001b[0m\n\u001b[1;32m    588\u001b[0m         \u001b[0mconvert_axes\u001b[0m \u001b[0;34m=\u001b[0m \u001b[0;32mTrue\u001b[0m\u001b[0;34m\u001b[0m\u001b[0;34m\u001b[0m\u001b[0m\n\u001b[1;32m    589\u001b[0m \u001b[0;34m\u001b[0m\u001b[0m\n\u001b[0;32m--> 590\u001b[0;31m     json_reader = JsonReader(\n\u001b[0m\u001b[1;32m    591\u001b[0m         \u001b[0mpath_or_buf\u001b[0m\u001b[0;34m,\u001b[0m\u001b[0;34m\u001b[0m\u001b[0;34m\u001b[0m\u001b[0m\n\u001b[1;32m    592\u001b[0m         \u001b[0morient\u001b[0m\u001b[0;34m=\u001b[0m\u001b[0morient\u001b[0m\u001b[0;34m,\u001b[0m\u001b[0;34m\u001b[0m\u001b[0;34m\u001b[0m\u001b[0m\n",
      "\u001b[0;32m/opt/homebrew/anaconda3/lib/python3.9/site-packages/pandas/io/json/_json.py\u001b[0m in \u001b[0;36m__init__\u001b[0;34m(self, filepath_or_buffer, orient, typ, dtype, convert_axes, convert_dates, keep_default_dates, numpy, precise_float, date_unit, encoding, lines, chunksize, compression, nrows, storage_options, encoding_errors)\u001b[0m\n\u001b[1;32m    673\u001b[0m                 \u001b[0;32mraise\u001b[0m \u001b[0mValueError\u001b[0m\u001b[0;34m(\u001b[0m\u001b[0;34m\"nrows can only be passed if lines=True\"\u001b[0m\u001b[0;34m)\u001b[0m\u001b[0;34m\u001b[0m\u001b[0;34m\u001b[0m\u001b[0m\n\u001b[1;32m    674\u001b[0m \u001b[0;34m\u001b[0m\u001b[0m\n\u001b[0;32m--> 675\u001b[0;31m         \u001b[0mdata\u001b[0m \u001b[0;34m=\u001b[0m \u001b[0mself\u001b[0m\u001b[0;34m.\u001b[0m\u001b[0m_get_data_from_filepath\u001b[0m\u001b[0;34m(\u001b[0m\u001b[0mfilepath_or_buffer\u001b[0m\u001b[0;34m)\u001b[0m\u001b[0;34m\u001b[0m\u001b[0;34m\u001b[0m\u001b[0m\n\u001b[0m\u001b[1;32m    676\u001b[0m         \u001b[0mself\u001b[0m\u001b[0;34m.\u001b[0m\u001b[0mdata\u001b[0m \u001b[0;34m=\u001b[0m \u001b[0mself\u001b[0m\u001b[0;34m.\u001b[0m\u001b[0m_preprocess_data\u001b[0m\u001b[0;34m(\u001b[0m\u001b[0mdata\u001b[0m\u001b[0;34m)\u001b[0m\u001b[0;34m\u001b[0m\u001b[0;34m\u001b[0m\u001b[0m\n\u001b[1;32m    677\u001b[0m \u001b[0;34m\u001b[0m\u001b[0m\n",
      "\u001b[0;32m/opt/homebrew/anaconda3/lib/python3.9/site-packages/pandas/io/json/_json.py\u001b[0m in \u001b[0;36m_get_data_from_filepath\u001b[0;34m(self, filepath_or_buffer)\u001b[0m\n\u001b[1;32m    710\u001b[0m             \u001b[0;32mor\u001b[0m \u001b[0mfile_exists\u001b[0m\u001b[0;34m(\u001b[0m\u001b[0mfilepath_or_buffer\u001b[0m\u001b[0;34m)\u001b[0m\u001b[0;34m\u001b[0m\u001b[0;34m\u001b[0m\u001b[0m\n\u001b[1;32m    711\u001b[0m         ):\n\u001b[0;32m--> 712\u001b[0;31m             self.handles = get_handle(\n\u001b[0m\u001b[1;32m    713\u001b[0m                 \u001b[0mfilepath_or_buffer\u001b[0m\u001b[0;34m,\u001b[0m\u001b[0;34m\u001b[0m\u001b[0;34m\u001b[0m\u001b[0m\n\u001b[1;32m    714\u001b[0m                 \u001b[0;34m\"r\"\u001b[0m\u001b[0;34m,\u001b[0m\u001b[0;34m\u001b[0m\u001b[0;34m\u001b[0m\u001b[0m\n",
      "\u001b[0;32m/opt/homebrew/anaconda3/lib/python3.9/site-packages/pandas/io/common.py\u001b[0m in \u001b[0;36mget_handle\u001b[0;34m(path_or_buf, mode, encoding, compression, memory_map, is_text, errors, storage_options)\u001b[0m\n\u001b[1;32m    607\u001b[0m \u001b[0;34m\u001b[0m\u001b[0m\n\u001b[1;32m    608\u001b[0m     \u001b[0;31m# open URLs\u001b[0m\u001b[0;34m\u001b[0m\u001b[0;34m\u001b[0m\u001b[0m\n\u001b[0;32m--> 609\u001b[0;31m     ioargs = _get_filepath_or_buffer(\n\u001b[0m\u001b[1;32m    610\u001b[0m         \u001b[0mpath_or_buf\u001b[0m\u001b[0;34m,\u001b[0m\u001b[0;34m\u001b[0m\u001b[0;34m\u001b[0m\u001b[0m\n\u001b[1;32m    611\u001b[0m         \u001b[0mencoding\u001b[0m\u001b[0;34m=\u001b[0m\u001b[0mencoding\u001b[0m\u001b[0;34m,\u001b[0m\u001b[0;34m\u001b[0m\u001b[0;34m\u001b[0m\u001b[0m\n",
      "\u001b[0;32m/opt/homebrew/anaconda3/lib/python3.9/site-packages/pandas/io/common.py\u001b[0m in \u001b[0;36m_get_filepath_or_buffer\u001b[0;34m(filepath_or_buffer, encoding, compression, mode, storage_options)\u001b[0m\n\u001b[1;32m    394\u001b[0m     \u001b[0;32mif\u001b[0m \u001b[0;32mnot\u001b[0m \u001b[0mis_file_like\u001b[0m\u001b[0;34m(\u001b[0m\u001b[0mfilepath_or_buffer\u001b[0m\u001b[0;34m)\u001b[0m\u001b[0;34m:\u001b[0m\u001b[0;34m\u001b[0m\u001b[0;34m\u001b[0m\u001b[0m\n\u001b[1;32m    395\u001b[0m         \u001b[0mmsg\u001b[0m \u001b[0;34m=\u001b[0m \u001b[0;34mf\"Invalid file path or buffer object type: {type(filepath_or_buffer)}\"\u001b[0m\u001b[0;34m\u001b[0m\u001b[0;34m\u001b[0m\u001b[0m\n\u001b[0;32m--> 396\u001b[0;31m         \u001b[0;32mraise\u001b[0m \u001b[0mValueError\u001b[0m\u001b[0;34m(\u001b[0m\u001b[0mmsg\u001b[0m\u001b[0;34m)\u001b[0m\u001b[0;34m\u001b[0m\u001b[0;34m\u001b[0m\u001b[0m\n\u001b[0m\u001b[1;32m    397\u001b[0m \u001b[0;34m\u001b[0m\u001b[0m\n\u001b[1;32m    398\u001b[0m     return IOArgs(\n",
      "\u001b[0;31mValueError\u001b[0m: Invalid file path or buffer object type: <class 'dict'>"
     ]
    }
   ],
   "source": [
    "df2 = pd.read_json(data, orient ='records')\n",
    "print(df2)"
   ]
  },
  {
   "cell_type": "code",
   "execution_count": null,
   "id": "ccc8531e-a018-43e2-a6a7-9347c1c9f349",
   "metadata": {},
   "outputs": [],
   "source": []
  },
  {
   "cell_type": "code",
   "execution_count": null,
   "id": "03eac908-8b58-4e48-b693-5aeccaba6651",
   "metadata": {},
   "outputs": [],
   "source": []
  },
  {
   "cell_type": "code",
   "execution_count": null,
   "id": "d784fc99-184e-4dff-861c-6de936207999",
   "metadata": {},
   "outputs": [],
   "source": []
  },
  {
   "cell_type": "markdown",
   "id": "43f1f76c-bd88-4880-8739-5ecc301d4a10",
   "metadata": {},
   "source": [
    "Retrieved from International Monetary Fund, Global price of Food index [PFOODINDEXM], retrieved from FRED, Federal Reserve Bank of St. Louis; https://fred.stlouisfed.org/series/PFOODINDEXM, June 29, 2022"
   ]
  },
  {
   "cell_type": "code",
   "execution_count": null,
   "id": "c81c5d1e-881c-4ea8-9b51-a47218a7549a",
   "metadata": {},
   "outputs": [],
   "source": [
    "df = pd.read_csv (r'/Users/ultimate/codeup-data-science/pet_projects/cu-income-before-taxes-2020.xlsx - Table 1203.csv')\n",
    "print (df)"
   ]
  },
  {
   "cell_type": "code",
   "execution_count": null,
   "id": "8b6cbfc0-57e2-4d5b-9538-ac8866bf450c",
   "metadata": {},
   "outputs": [],
   "source": [
    "df"
   ]
  },
  {
   "cell_type": "code",
   "execution_count": null,
   "id": "45e7199b-1a97-4891-95b5-f21e9a1a645c",
   "metadata": {},
   "outputs": [],
   "source": [
    "import pandas as pd\n",
    "df = pd.read_excel('https://query.data.world/s/dd57isgbmc4yw6gq47qifvnqt64prs')"
   ]
  },
  {
   "cell_type": "markdown",
   "id": "db189c9c-2685-432d-bfbe-a21b28ef6b9a",
   "metadata": {},
   "source": [
    "The Office of Postsecondary Education Identification (OPE ID) number is assigned by the U.S. Department of Education to identify schools that have Program Participation Agreements (PPA) so that its students are eligible to participate in Federal Student Financial Assistance programs under Title IV regulations"
   ]
  },
  {
   "cell_type": "code",
   "execution_count": null,
   "id": "82bf5744-347c-4852-9c4d-f8f705a5f776",
   "metadata": {},
   "outputs": [],
   "source": [
    "df"
   ]
  },
  {
   "cell_type": "code",
   "execution_count": null,
   "id": "27c32390-8a31-4649-b6af-7ce5a5c4a91f",
   "metadata": {},
   "outputs": [],
   "source": [
    "import pandas as pd\n",
    "df = pd.read_excel('/Users/ultimate/codeup-data-science/pet_projects/texas_taxes_all_property_taxes.xlsx')\n",
    "df"
   ]
  },
  {
   "cell_type": "code",
   "execution_count": null,
   "id": "a96b14d4-94bf-463b-8c13-26b46a2651d4",
   "metadata": {},
   "outputs": [],
   "source": []
  },
  {
   "cell_type": "code",
   "execution_count": null,
   "id": "73e042c8-85b7-48b7-85e7-9fd2d594de8c",
   "metadata": {},
   "outputs": [],
   "source": []
  }
 ],
 "metadata": {
  "kernelspec": {
   "display_name": "Python 3 (ipykernel)",
   "language": "python",
   "name": "python3"
  },
  "language_info": {
   "codemirror_mode": {
    "name": "ipython",
    "version": 3
   },
   "file_extension": ".py",
   "mimetype": "text/x-python",
   "name": "python",
   "nbconvert_exporter": "python",
   "pygments_lexer": "ipython3",
   "version": "3.9.7"
  }
 },
 "nbformat": 4,
 "nbformat_minor": 5
}
